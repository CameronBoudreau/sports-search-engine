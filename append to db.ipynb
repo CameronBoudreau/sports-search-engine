{
 "cells": [
  {
   "cell_type": "markdown",
   "metadata": {},
   "source": [
    "# COPY THIS TO ATOM, BUT IT WILL NEED TO PLAY NICE WITH ARGPARSE"
   ]
  },
  {
   "cell_type": "code",
   "execution_count": 8,
   "metadata": {
    "collapsed": false
   },
   "outputs": [
    {
     "data": {
      "text/plain": [
       "[]"
      ]
     },
     "execution_count": 8,
     "metadata": {},
     "output_type": "execute_result"
    }
   ],
   "source": [
    "import psycopg2\n",
    "import pandas as pd\n",
    "import argparse\n",
    "\n",
    "\n",
    "conn = psycopg2.connect(\"dbname=Cameron user=Cameron host=/tmp/\")\n",
    "cur = conn.cursor()\n",
    "\n",
    "columns = ['Rank', 'Player', 'Rushing_Att', 'Rushing_Yds', 'Rushing_Avg', 'Rushing_TD', 'Receiving_Rec', 'Receiving_Yds', 'Receiving_Avg', 'Receiving_TD', 'Scrimmage_Plays', 'Scrimmage_Yds', 'Scrimmage_Avg', 'Scrimmage_TD']\n",
    "\n",
    "cur.execute(\"SELECT * from player_data;\")\n",
    "rows = len(cur.fetchall())\n",
    "cur.fetchall()"
   ]
  },
  {
   "cell_type": "code",
   "execution_count": null,
   "metadata": {
    "collapsed": false
   },
   "outputs": [],
   "source": [
    "file = input(\"Please enter file path for a 14 column csv file with a header to be added to the database: \")"
   ]
  },
  {
   "cell_type": "code",
   "execution_count": null,
   "metadata": {
    "collapsed": false
   },
   "outputs": [],
   "source": [
    "data = pd.read_csv(file)\n",
    "data.columns = columns\n",
    "data.fillna(0, inplace=True)\n",
    "data.head()"
   ]
  },
  {
   "cell_type": "code",
   "execution_count": null,
   "metadata": {
    "collapsed": false
   },
   "outputs": [],
   "source": [
    "for row in data.itertuples():\n",
    "    cur.execute(\"\"\"INSERT INTO player_data VALUES ({}, {}, '{}', {}, {}, {}, {}, {}, {}, {}, {}, {}, {}, {}, {});\"\"\".format(rows + row[0], row[1], row[2], row[3], row[4], row[5], row[6], row[7], row[8], row[9], row[10], row[11], row[12], row[13], row[14]))"
   ]
  },
  {
   "cell_type": "code",
   "execution_count": 10,
   "metadata": {
    "collapsed": false,
    "scrolled": true
   },
   "outputs": [
    {
     "data": {
      "text/plain": [
       "[(0, '1', 'Mike Rozier', 275, 2148, 8, 29, 10, 106, 11, 0, 285, 2254, 8, 29),\n",
       " (1, '2', 'Turner Gill', 109, 531, 5, 11, 0, 0, 0, 0, 109, 531, 5, 11),\n",
       " (2, '3', 'Jeff Smith', 78, 439, 6, 5, 6, 146, 24, 2, 84, 585, 7, 7),\n",
       " (3, '4', 'Mark Schellen', 77, 450, 6, 9, 2, 10, 5, 0, 79, 460, 6, 9),\n",
       " (4, '5', 'Nate Mason', 35, 222, 6, 2, 0, 0, 0, 0, 35, 222, 6, 2),\n",
       " (5, '6', 'Paul Miles', 29, 281, 10, 3, 1, 24, 24, 0, 30, 305, 10, 3),\n",
       " (6, '7', 'Tom Rathman', 26, 143, 6, 0, 2, 26, 13, 1, 28, 169, 6, 1),\n",
       " (7, '8', 'Irving Fryar', 23, 318, 14, 2, 40, 780, 20, 8, 63, 1098, 17, 10),\n",
       " (8, '9', 'Craig Sundberg', 18, 86, 5, 4, 0, 0, 0, 0, 18, 86, 5, 4),\n",
       " (9, '10', 'Tim Brungardt', 18, 65, 4, 1, 1, 8, 8, 0, 19, 73, 4, 1),\n",
       " (10, '11', 'Scott Porter', 9, 31, 3, 0, 0, 0, 0, 0, 9, 31, 3, 0),\n",
       " (11, '12', 'Greg Divis', 6, 28, 5, 0, 0, 0, 0, 0, 6, 28, 5, 0),\n",
       " (12, '13', 'Pat Borer', 4, 24, 6, 0, 0, 0, 0, 0, 4, 24, 6, 0),\n",
       " (13, '14', 'Bob Kingston', 4, 1, 0, 0, 0, 0, 0, 0, 4, 1, 0, 0),\n",
       " (14, '15', 'Shane Swanson', 3, 25, 8, 0, 5, 66, 13, 1, 8, 91, 11, 1),\n",
       " (15, '16', 'Travis Turner', 3, 19, 6, 0, 0, 0, 0, 0, 3, 19, 6, 0),\n",
       " (16, '17', 'Jim Thompson', 2, -4, -2, 0, 1, 4, 4, 0, 3, 0, 0, 0),\n",
       " (17, '18', 'Ricky Simmons', 1, 12, 12, 0, 13, 137, 11, 0, 14, 149, 11, 0),\n",
       " (18, '19', 'Roger Lindstrom', 1, 11, 11, 0, 0, 0, 0, 0, 1, 11, 11, 0),\n",
       " (19, '20', 'Napier', 1, 4, 4, 0, 0, 0, 0, 0, 1, 4, 4, 0),\n",
       " (20, '21', 'Woodruff', 1, 1, 1, 0, 0, 0, 0, 0, 1, 1, 1, 0),\n",
       " (21, '22', 'Scott Kimball', 0, 0, 0, 0, 12, 207, 17, 1, 12, 207, 17, 1),\n",
       " (22, '23', 'Monte Engebritson', 0, 0, 0, 0, 7, 95, 14, 1, 7, 95, 14, 1),\n",
       " (23, '24', 'Todd Frain', 0, 0, 0, 0, 5, 100, 20, 3, 5, 100, 20, 3),\n",
       " (24, '25', 'Brian Hiemer', 0, 0, 0, 0, 2, 31, 16, 1, 2, 31, 16, 1)]"
      ]
     },
     "execution_count": 10,
     "metadata": {},
     "output_type": "execute_result"
    }
   ],
   "source": [
    "cur.execute(\"SELECT * from player_data;\")\n",
    "cur.fetchall()"
   ]
  },
  {
   "cell_type": "code",
   "execution_count": 9,
   "metadata": {
    "collapsed": false
   },
   "outputs": [
    {
     "ename": "ProgrammingError",
     "evalue": "no results to fetch",
     "output_type": "error",
     "traceback": [
      "\u001b[0;31m---------------------------------------------------------------------------\u001b[0m",
      "\u001b[0;31mProgrammingError\u001b[0m                          Traceback (most recent call last)",
      "\u001b[0;32m<ipython-input-9-d29c8a02680b>\u001b[0m in \u001b[0;36m<module>\u001b[0;34m()\u001b[0m\n\u001b[1;32m      1\u001b[0m \u001b[0mcur\u001b[0m\u001b[0;34m.\u001b[0m\u001b[0mexecute\u001b[0m\u001b[0;34m(\u001b[0m\u001b[0;34m\"DELETE from player_data WHERE id>'24';\"\u001b[0m\u001b[0;34m)\u001b[0m\u001b[0;34m\u001b[0m\u001b[0m\n\u001b[0;32m----> 2\u001b[0;31m \u001b[0mcur\u001b[0m\u001b[0;34m.\u001b[0m\u001b[0mfetchall\u001b[0m\u001b[0;34m(\u001b[0m\u001b[0;34m)\u001b[0m\u001b[0;34m\u001b[0m\u001b[0m\n\u001b[0m",
      "\u001b[0;31mProgrammingError\u001b[0m: no results to fetch"
     ]
    }
   ],
   "source": [
    "cur.execute(\"DELETE from player_data WHERE id>'24';\")\n",
    "cur.fetchall()"
   ]
  },
  {
   "cell_type": "code",
   "execution_count": 11,
   "metadata": {
    "collapsed": true
   },
   "outputs": [],
   "source": [
    "conn.commit()\n",
    "cur.close()\n",
    "conn.close()"
   ]
  },
  {
   "cell_type": "code",
   "execution_count": null,
   "metadata": {
    "collapsed": true
   },
   "outputs": [],
   "source": []
  }
 ],
 "metadata": {
  "kernelspec": {
   "display_name": "Python 3",
   "language": "python",
   "name": "python3"
  },
  "language_info": {
   "codemirror_mode": {
    "name": "ipython",
    "version": 3
   },
   "file_extension": ".py",
   "mimetype": "text/x-python",
   "name": "python",
   "nbconvert_exporter": "python",
   "pygments_lexer": "ipython3",
   "version": "3.5.1"
  }
 },
 "nbformat": 4,
 "nbformat_minor": 0
}
