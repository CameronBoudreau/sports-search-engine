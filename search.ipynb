{
 "cells": [
  {
   "cell_type": "code",
   "execution_count": 63,
   "metadata": {
    "collapsed": false
   },
   "outputs": [],
   "source": [
    "import psycopg2\n",
    "import pandas as pd\n",
    "from pandas import Series\n",
    "\n",
    "conn = psycopg2.connect(\"dbname=Cameron user=Cameron host=/tmp/\")\n",
    "cur = conn.cursor()\n",
    "columns = ['Rank', 'Player', 'Rushing_Att', 'Rushing_Yds', 'Rushing_Avg', 'Rushing_TD', 'Receiving_Rec', 'Receiving_Yds', 'Receiving_Avg', 'Receiving_TD', 'Scrimmage_Plays', 'Scrimmage_Yds', 'Scrimmage_Avg', 'Scrimmage_TD']"
   ]
  },
  {
   "cell_type": "code",
   "execution_count": 64,
   "metadata": {
    "collapsed": true
   },
   "outputs": [],
   "source": [
    "def get_search_terms(columns):\n",
    "    search_terms = list([])\n",
    "\n",
    "    print(\"What would you like to search for? You will be prompted for each field value in order. If you want to skip a field, simply press Enter.\")\n",
    "\n",
    "    for i in range(14):\n",
    "        term = input(\"{}: \".format(columns[i]))\n",
    "        if term == '':\n",
    "            search_terms.append('9999')\n",
    "        else:\n",
    "            search_terms.append(term)\n",
    "    return search_terms"
   ]
  },
  {
   "cell_type": "code",
   "execution_count": 71,
   "metadata": {
    "collapsed": true
   },
   "outputs": [],
   "source": [
    "def check_database(search_terms, columns):\n",
    "    pass\n",
    "    cur.execute(\"SELECT * from player_data WHERE Rank='{}' OR Player='{}' OR Rushing_Att='{}' OR Rushing_Yds='{}' OR Rushing_Avg='{}' OR Rushing_TD='{}' OR Receiving_Rec='{}' OR Receiving_Yds='{}' OR Receiving_Avg='{}' OR Receiving_TD='{}' OR Scrimmage_Plays='{}' OR Scrimmage_Yds='{}' OR Scrimmage_Avg='{}' OR Scrimmage_TD='{}'\".format(search_terms[0], search_terms[1], search_terms[2], search_terms[3], search_terms[4], search_terms[5], search_terms[6], search_terms[7], search_terms[8], search_terms[9], search_terms[10], search_terms[11], search_terms[12], search_terms[13]))\n",
    "    results = cur.fetchall()\n",
    "    return results"
   ]
  },
  {
   "cell_type": "code",
   "execution_count": 72,
   "metadata": {
    "collapsed": false
   },
   "outputs": [
    {
     "name": "stdout",
     "output_type": "stream",
     "text": [
      "What would you like to search for? You will be prompted for each field value in order. If you want to skip a field, simply press Enter.\n",
      "Rank: \n",
      "Player: \n",
      "Rushing_Att: \n",
      "Rushing_Yds: \n",
      "Rushing_Avg: \n",
      "Rushing_TD: \n",
      "Receiving_Rec: \n",
      "Receiving_Yds: \n",
      "Receiving_Avg: \n",
      "Receiving_TD: 1\n",
      "Scrimmage_Plays: \n",
      "Scrimmage_Yds: \n",
      "Scrimmage_Avg: \n",
      "Scrimmage_TD: \n"
     ]
    }
   ],
   "source": [
    "search_terms = get_search_terms(columns)"
   ]
  },
  {
   "cell_type": "code",
   "execution_count": 73,
   "metadata": {
    "collapsed": false
   },
   "outputs": [
    {
     "data": {
      "text/plain": [
       "['9999',\n",
       " '9999',\n",
       " '9999',\n",
       " '9999',\n",
       " '9999',\n",
       " '9999',\n",
       " '9999',\n",
       " '9999',\n",
       " '9999',\n",
       " '1',\n",
       " '9999',\n",
       " '9999',\n",
       " '9999',\n",
       " '9999']"
      ]
     },
     "execution_count": 73,
     "metadata": {},
     "output_type": "execute_result"
    }
   ],
   "source": [
    "search_terms"
   ]
  },
  {
   "cell_type": "code",
   "execution_count": 74,
   "metadata": {
    "collapsed": false
   },
   "outputs": [
    {
     "data": {
      "text/plain": [
       "['7', 'Tom Rathman', 26, 143, 6, 0, 2, 26, 13, 1, 28, 169, 6, 1]"
      ]
     },
     "execution_count": 74,
     "metadata": {},
     "output_type": "execute_result"
    }
   ],
   "source": [
    "results = check_database(search_terms, columns)[0]\n",
    "results = [x for x in results]\n",
    "del results[0]\n",
    "results"
   ]
  },
  {
   "cell_type": "code",
   "execution_count": 60,
   "metadata": {
    "collapsed": false
   },
   "outputs": [],
   "source": [
    "def create_df_display(results, columns):\n",
    "    print(results)\n",
    "    results_df = pd.DataFrame()\n",
    "    results\n",
    "    return results_df"
   ]
  },
  {
   "cell_type": "code",
   "execution_count": 61,
   "metadata": {
    "collapsed": false
   },
   "outputs": [
    {
     "name": "stdout",
     "output_type": "stream",
     "text": [
      "['5', 'Nate Mason', 35, 222, 6, 2, 0, 0, 0, 0, 35, 222, 6, 2]\n"
     ]
    }
   ],
   "source": [
    "display_frame = create_df_display(results, columns)"
   ]
  },
  {
   "cell_type": "code",
   "execution_count": 62,
   "metadata": {
    "collapsed": false
   },
   "outputs": [
    {
     "data": {
      "text/html": [
       "<div>\n",
       "<table border=\"1\" class=\"dataframe\">\n",
       "  <thead>\n",
       "    <tr style=\"text-align: right;\">\n",
       "      <th></th>\n",
       "      <th>0</th>\n",
       "    </tr>\n",
       "  </thead>\n",
       "  <tbody>\n",
       "    <tr>\n",
       "      <th>Rank</th>\n",
       "      <td>5</td>\n",
       "    </tr>\n",
       "    <tr>\n",
       "      <th>Player</th>\n",
       "      <td>Nate Mason</td>\n",
       "    </tr>\n",
       "    <tr>\n",
       "      <th>Rushing_Att</th>\n",
       "      <td>35</td>\n",
       "    </tr>\n",
       "    <tr>\n",
       "      <th>Rushing_Yds</th>\n",
       "      <td>222</td>\n",
       "    </tr>\n",
       "    <tr>\n",
       "      <th>Rushing_Avg</th>\n",
       "      <td>6</td>\n",
       "    </tr>\n",
       "    <tr>\n",
       "      <th>Rushing_TD</th>\n",
       "      <td>2</td>\n",
       "    </tr>\n",
       "    <tr>\n",
       "      <th>Receiving_Rec</th>\n",
       "      <td>0</td>\n",
       "    </tr>\n",
       "    <tr>\n",
       "      <th>Receiving_Yds</th>\n",
       "      <td>0</td>\n",
       "    </tr>\n",
       "    <tr>\n",
       "      <th>Receiving_Avg</th>\n",
       "      <td>0</td>\n",
       "    </tr>\n",
       "    <tr>\n",
       "      <th>Receiving_TD</th>\n",
       "      <td>0</td>\n",
       "    </tr>\n",
       "    <tr>\n",
       "      <th>Scrimmage_Plays</th>\n",
       "      <td>35</td>\n",
       "    </tr>\n",
       "    <tr>\n",
       "      <th>Scrimmage_Yds</th>\n",
       "      <td>222</td>\n",
       "    </tr>\n",
       "    <tr>\n",
       "      <th>Scrimmage_Avg</th>\n",
       "      <td>6</td>\n",
       "    </tr>\n",
       "    <tr>\n",
       "      <th>Scrimmage_TD</th>\n",
       "      <td>2</td>\n",
       "    </tr>\n",
       "  </tbody>\n",
       "</table>\n",
       "</div>"
      ],
      "text/plain": [
       "                          0\n",
       "Rank                      5\n",
       "Player           Nate Mason\n",
       "Rushing_Att              35\n",
       "Rushing_Yds             222\n",
       "Rushing_Avg               6\n",
       "Rushing_TD                2\n",
       "Receiving_Rec             0\n",
       "Receiving_Yds             0\n",
       "Receiving_Avg             0\n",
       "Receiving_TD              0\n",
       "Scrimmage_Plays          35\n",
       "Scrimmage_Yds           222\n",
       "Scrimmage_Avg             6\n",
       "Scrimmage_TD              2"
      ]
     },
     "execution_count": 62,
     "metadata": {},
     "output_type": "execute_result"
    }
   ],
   "source": [
    "display_frame"
   ]
  },
  {
   "cell_type": "code",
   "execution_count": null,
   "metadata": {
    "collapsed": true
   },
   "outputs": [],
   "source": [
    "display_frame = display_frame."
   ]
  }
 ],
 "metadata": {
  "kernelspec": {
   "display_name": "Python 3",
   "language": "python",
   "name": "python3"
  },
  "language_info": {
   "codemirror_mode": {
    "name": "ipython",
    "version": 3
   },
   "file_extension": ".py",
   "mimetype": "text/x-python",
   "name": "python",
   "nbconvert_exporter": "python",
   "pygments_lexer": "ipython3",
   "version": "3.5.1"
  }
 },
 "nbformat": 4,
 "nbformat_minor": 0
}
