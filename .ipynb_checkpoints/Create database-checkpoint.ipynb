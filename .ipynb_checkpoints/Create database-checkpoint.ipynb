{
 "cells": [
  {
   "cell_type": "code",
   "execution_count": 1,
   "metadata": {
    "collapsed": true
   },
   "outputs": [],
   "source": [
    "import psycopg2\n",
    "import csv\n",
    "import numpy as np\n",
    "import pandas as pd"
   ]
  },
  {
   "cell_type": "code",
   "execution_count": 2,
   "metadata": {
    "collapsed": false
   },
   "outputs": [],
   "source": [
    "conn = psycopg2.connect(\"dbname=test user=Cameron host=/tmp/\")\n",
    "cur = conn.cursor()\n",
    "cur.execute(\"CREATE TABLE players(id serial PRIMARY KEY, Rank varchar, Player varchar, Rushing_Att integer, Rushing_Yds integer, Rushing_Avg integer, Rushing_TD integer, Receiving_Rec integer, Receiving_Yds integer, Receiving_Avg integer, Receiving_TD integer, Scrimmage_Plays integer, Scrimmage_Yds integer, Scrimmage_Avg integer, Scrimmage_TD integer); \")\n",
    "columns = ['Rank', 'Player', 'Rushing_Att', 'Rushing_Yds', 'Rushing_Avg', 'Rushing_TD', 'Receiving_Rec', 'Receiving_Yds', 'Receiving_Avg', 'Receiving_TD', 'Scrimmage_Plays', 'Scrimmage_Yds', 'Scrimmage_Avg', 'Scrimmage_TD']"
   ]
  },
  {
   "cell_type": "code",
   "execution_count": 3,
   "metadata": {
    "collapsed": false
   },
   "outputs": [],
   "source": [
    "# reader = csv.DictReader(open('stats.csv', 'r')) \n",
    "# for row in reader:\n",
    "#     to_db = [col for col in row]\n",
    "#     cur.execute(\"INSERT INTO players (Rank, Player, Rushing_Att, Rushing_Yds, Rushing_Avg, Rushing_TD, Receiving_Rec, Receiving_Yds, Receiving_Avg, Receiving_TD, Scrimmage_Plays, Scrimmage_Yds, Scrimmage_Avg, Scrimmage_TD) VALUES (?, ?, ?, ?, ?, ?, ?, ?, ?, ?, ?, ?, ?, ?);\", to_db)\n",
    "    \n",
    "# to_db = [(i['Rank'], i['Player'], i['Rushing_Att'], i['Rushing_Yds'], i['Rushing_Avg'], i['Rushing_TD'], i['Receiving_Rec'], i['Receiving_Yds'], i['Receiving_Avg'], i['Receiving_TD'], i['Scrimmage_Plays'], i['Scrimmage_Yds'], i['Scrimmage_Avg'], i['Scrimmage_TD']) for i in dr]\n",
    "# cur.executemany(\"INSERT INTO  (Rank, Player, Rushing_Att, Rushing_Yds, Rushing_Avg, Rushing_TD, Receiving_Rec, Receiving_Yds, Receiving_Avg, Receiving_TD, Scrimmage_Plays, Scrimmage_Yds, Scrimmage_Avg, Scrimmage_TD) VALUES (?, ?);\", to_db)"
   ]
  },
  {
   "cell_type": "code",
   "execution_count": 4,
   "metadata": {
    "collapsed": false
   },
   "outputs": [
    {
     "data": {
      "text/html": [
       "<div>\n",
       "<table border=\"1\" class=\"dataframe\">\n",
       "  <thead>\n",
       "    <tr style=\"text-align: right;\">\n",
       "      <th></th>\n",
       "      <th>Rank</th>\n",
       "      <th>Player</th>\n",
       "      <th>Rushing_Att</th>\n",
       "      <th>Rushing_Yds</th>\n",
       "      <th>Rushing_Avg</th>\n",
       "      <th>Rushing_TD</th>\n",
       "      <th>Receiving_Rec</th>\n",
       "      <th>Receiving_Yds</th>\n",
       "      <th>Receiving_Avg</th>\n",
       "      <th>Receiving_TD</th>\n",
       "      <th>Scrimmage_Plays</th>\n",
       "      <th>Scrimmage_Yds</th>\n",
       "      <th>Scrimmage_Avg</th>\n",
       "      <th>Scrimmage_TD</th>\n",
       "    </tr>\n",
       "  </thead>\n",
       "  <tbody>\n",
       "    <tr>\n",
       "      <th>0</th>\n",
       "      <td>1</td>\n",
       "      <td>Mike Rozier</td>\n",
       "      <td>275.0</td>\n",
       "      <td>2148.0</td>\n",
       "      <td>7.8</td>\n",
       "      <td>29.0</td>\n",
       "      <td>10.0</td>\n",
       "      <td>106.0</td>\n",
       "      <td>10.6</td>\n",
       "      <td>0.0</td>\n",
       "      <td>285</td>\n",
       "      <td>2254</td>\n",
       "      <td>7.9</td>\n",
       "      <td>29</td>\n",
       "    </tr>\n",
       "    <tr>\n",
       "      <th>1</th>\n",
       "      <td>2</td>\n",
       "      <td>Turner Gill</td>\n",
       "      <td>109.0</td>\n",
       "      <td>531.0</td>\n",
       "      <td>4.9</td>\n",
       "      <td>11.0</td>\n",
       "      <td>NaN</td>\n",
       "      <td>NaN</td>\n",
       "      <td>NaN</td>\n",
       "      <td>NaN</td>\n",
       "      <td>109</td>\n",
       "      <td>531</td>\n",
       "      <td>4.9</td>\n",
       "      <td>11</td>\n",
       "    </tr>\n",
       "    <tr>\n",
       "      <th>2</th>\n",
       "      <td>3</td>\n",
       "      <td>Jeff Smith</td>\n",
       "      <td>78.0</td>\n",
       "      <td>439.0</td>\n",
       "      <td>5.6</td>\n",
       "      <td>5.0</td>\n",
       "      <td>6.0</td>\n",
       "      <td>146.0</td>\n",
       "      <td>24.3</td>\n",
       "      <td>2.0</td>\n",
       "      <td>84</td>\n",
       "      <td>585</td>\n",
       "      <td>7.0</td>\n",
       "      <td>7</td>\n",
       "    </tr>\n",
       "    <tr>\n",
       "      <th>3</th>\n",
       "      <td>4</td>\n",
       "      <td>Mark Schellen</td>\n",
       "      <td>77.0</td>\n",
       "      <td>450.0</td>\n",
       "      <td>5.8</td>\n",
       "      <td>9.0</td>\n",
       "      <td>2.0</td>\n",
       "      <td>10.0</td>\n",
       "      <td>5.0</td>\n",
       "      <td>0.0</td>\n",
       "      <td>79</td>\n",
       "      <td>460</td>\n",
       "      <td>5.8</td>\n",
       "      <td>9</td>\n",
       "    </tr>\n",
       "    <tr>\n",
       "      <th>4</th>\n",
       "      <td>5</td>\n",
       "      <td>Nate Mason</td>\n",
       "      <td>35.0</td>\n",
       "      <td>222.0</td>\n",
       "      <td>6.3</td>\n",
       "      <td>2.0</td>\n",
       "      <td>NaN</td>\n",
       "      <td>NaN</td>\n",
       "      <td>NaN</td>\n",
       "      <td>NaN</td>\n",
       "      <td>35</td>\n",
       "      <td>222</td>\n",
       "      <td>6.3</td>\n",
       "      <td>2</td>\n",
       "    </tr>\n",
       "  </tbody>\n",
       "</table>\n",
       "</div>"
      ],
      "text/plain": [
       "   Rank         Player  Rushing_Att  Rushing_Yds  Rushing_Avg  Rushing_TD  \\\n",
       "0     1    Mike Rozier        275.0       2148.0          7.8        29.0   \n",
       "1     2    Turner Gill        109.0        531.0          4.9        11.0   \n",
       "2     3     Jeff Smith         78.0        439.0          5.6         5.0   \n",
       "3     4  Mark Schellen         77.0        450.0          5.8         9.0   \n",
       "4     5     Nate Mason         35.0        222.0          6.3         2.0   \n",
       "\n",
       "   Receiving_Rec  Receiving_Yds  Receiving_Avg  Receiving_TD  Scrimmage_Plays  \\\n",
       "0           10.0          106.0           10.6           0.0              285   \n",
       "1            NaN            NaN            NaN           NaN              109   \n",
       "2            6.0          146.0           24.3           2.0               84   \n",
       "3            2.0           10.0            5.0           0.0               79   \n",
       "4            NaN            NaN            NaN           NaN               35   \n",
       "\n",
       "   Scrimmage_Yds  Scrimmage_Avg  Scrimmage_TD  \n",
       "0           2254            7.9            29  \n",
       "1            531            4.9            11  \n",
       "2            585            7.0             7  \n",
       "3            460            5.8             9  \n",
       "4            222            6.3             2  "
      ]
     },
     "execution_count": 4,
     "metadata": {},
     "output_type": "execute_result"
    }
   ],
   "source": [
    "data = pd.read_csv('stats.csv', header=1)\n",
    "data.columns = columns\n",
    "data.head()"
   ]
  },
  {
   "cell_type": "code",
   "execution_count": 5,
   "metadata": {
    "collapsed": false
   },
   "outputs": [],
   "source": [
    "# data.to_sql('players', conn)"
   ]
  },
  {
   "cell_type": "code",
   "execution_count": 6,
   "metadata": {
    "collapsed": false
   },
   "outputs": [
    {
     "ename": "IntegrityError",
     "evalue": "duplicate key value violates unique constraint \"players_pkey\"\nDETAIL:  Key (id)=(1) already exists.\n",
     "output_type": "error",
     "traceback": [
      "\u001b[0;31m---------------------------------------------------------------------------\u001b[0m",
      "\u001b[0;31mIntegrityError\u001b[0m                            Traceback (most recent call last)",
      "\u001b[0;32m<ipython-input-6-b1568494e7a9>\u001b[0m in \u001b[0;36m<module>\u001b[0;34m()\u001b[0m\n\u001b[1;32m      2\u001b[0m     \u001b[0mrow\u001b[0m \u001b[0;34m=\u001b[0m \u001b[0mnext\u001b[0m\u001b[0;34m(\u001b[0m\u001b[0mdata\u001b[0m\u001b[0;34m.\u001b[0m\u001b[0mitertuples\u001b[0m\u001b[0;34m(\u001b[0m\u001b[0;34m)\u001b[0m\u001b[0;34m)\u001b[0m\u001b[0;34m\u001b[0m\u001b[0m\n\u001b[1;32m      3\u001b[0m \u001b[0;31m#     print(row[1])\u001b[0m\u001b[0;34m\u001b[0m\u001b[0;34m\u001b[0m\u001b[0m\n\u001b[0;32m----> 4\u001b[0;31m     \u001b[0mcur\u001b[0m\u001b[0;34m.\u001b[0m\u001b[0mexecute\u001b[0m\u001b[0;34m(\u001b[0m\u001b[0;34m\"INSERT INTO players VALUES ({}, '{}', {}, {}, {}, {}, {}, {}, {}, {}, {}, {}, {}, {});\"\u001b[0m\u001b[0;34m.\u001b[0m\u001b[0mformat\u001b[0m\u001b[0;34m(\u001b[0m\u001b[0mrow\u001b[0m\u001b[0;34m[\u001b[0m\u001b[0;36m1\u001b[0m\u001b[0;34m]\u001b[0m\u001b[0;34m,\u001b[0m \u001b[0mrow\u001b[0m\u001b[0;34m[\u001b[0m\u001b[0;36m2\u001b[0m\u001b[0;34m]\u001b[0m\u001b[0;34m,\u001b[0m \u001b[0mrow\u001b[0m\u001b[0;34m[\u001b[0m\u001b[0;36m3\u001b[0m\u001b[0;34m]\u001b[0m\u001b[0;34m,\u001b[0m \u001b[0mrow\u001b[0m\u001b[0;34m[\u001b[0m\u001b[0;36m4\u001b[0m\u001b[0;34m]\u001b[0m\u001b[0;34m,\u001b[0m \u001b[0mrow\u001b[0m\u001b[0;34m[\u001b[0m\u001b[0;36m5\u001b[0m\u001b[0;34m]\u001b[0m\u001b[0;34m,\u001b[0m \u001b[0mrow\u001b[0m\u001b[0;34m[\u001b[0m\u001b[0;36m6\u001b[0m\u001b[0;34m]\u001b[0m\u001b[0;34m,\u001b[0m \u001b[0mrow\u001b[0m\u001b[0;34m[\u001b[0m\u001b[0;36m7\u001b[0m\u001b[0;34m]\u001b[0m\u001b[0;34m,\u001b[0m \u001b[0mrow\u001b[0m\u001b[0;34m[\u001b[0m\u001b[0;36m8\u001b[0m\u001b[0;34m]\u001b[0m\u001b[0;34m,\u001b[0m \u001b[0mrow\u001b[0m\u001b[0;34m[\u001b[0m\u001b[0;36m9\u001b[0m\u001b[0;34m]\u001b[0m\u001b[0;34m,\u001b[0m \u001b[0mrow\u001b[0m\u001b[0;34m[\u001b[0m\u001b[0;36m10\u001b[0m\u001b[0;34m]\u001b[0m\u001b[0;34m,\u001b[0m \u001b[0mrow\u001b[0m\u001b[0;34m[\u001b[0m\u001b[0;36m11\u001b[0m\u001b[0;34m]\u001b[0m\u001b[0;34m,\u001b[0m \u001b[0mrow\u001b[0m\u001b[0;34m[\u001b[0m\u001b[0;36m12\u001b[0m\u001b[0;34m]\u001b[0m\u001b[0;34m,\u001b[0m \u001b[0mrow\u001b[0m\u001b[0;34m[\u001b[0m\u001b[0;36m13\u001b[0m\u001b[0;34m]\u001b[0m\u001b[0;34m,\u001b[0m \u001b[0mrow\u001b[0m\u001b[0;34m[\u001b[0m\u001b[0;36m14\u001b[0m\u001b[0;34m]\u001b[0m\u001b[0;34m)\u001b[0m\u001b[0;34m)\u001b[0m\u001b[0;34m\u001b[0m\u001b[0m\n\u001b[0m",
      "\u001b[0;31mIntegrityError\u001b[0m: duplicate key value violates unique constraint \"players_pkey\"\nDETAIL:  Key (id)=(1) already exists.\n"
     ]
    }
   ],
   "source": [
    "for row in data.itertuples():\n",
    "    cur.execute(\"INSERT INTO players VALUES ({}, '{}', {}, {}, {}, {}, {}, {}, {}, {}, {}, {}, {}, {});\".format(row[1], row[2], row[3], row[4], row[5], row[6], row[7], row[8], row[9], row[10], row[11], row[12], row[13], row[14]))"
   ]
  },
  {
   "cell_type": "code",
   "execution_count": null,
   "metadata": {
    "collapsed": true
   },
   "outputs": [],
   "source": [
    "# def create_sql(dataframe):\n",
    "#     cur.execute(\"CREATE TABLE sportsSearch(id serial PRIMARY KEY, Rank varchar, Player varchar, Rushing Att integer, Rushing Yds integer, Rushing Avg integer, Rushing TD integer, Receiving Rec integer, Receiving Yds integer, Receiving Avg integer, Receiving TD integer, Scrimmage Plays integer, Scrimmage Yds integer, Scrimmage Avg integer, Scrimmage TD integer); \")\n",
    "#     for row in dataframe:\n",
    "#         cur.execute(\"INSERT INTO exercise (name, age) VALUES (%s, %s)\", (\"Cameron\", 29))\n",
    "        "
   ]
  },
  {
   "cell_type": "code",
   "execution_count": null,
   "metadata": {
    "collapsed": true
   },
   "outputs": [],
   "source": []
  }
 ],
 "metadata": {
  "kernelspec": {
   "display_name": "Python 3",
   "language": "python",
   "name": "python3"
  },
  "language_info": {
   "codemirror_mode": {
    "name": "ipython",
    "version": 3
   },
   "file_extension": ".py",
   "mimetype": "text/x-python",
   "name": "python",
   "nbconvert_exporter": "python",
   "pygments_lexer": "ipython3",
   "version": "3.5.1"
  }
 },
 "nbformat": 4,
 "nbformat_minor": 0
}
